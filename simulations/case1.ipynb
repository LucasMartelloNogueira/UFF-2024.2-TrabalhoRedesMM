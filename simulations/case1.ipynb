{
 "cells": [
  {
   "cell_type": "code",
   "execution_count": 42,
   "metadata": {},
   "outputs": [],
   "source": [
    "import pandas as pd\n",
    "import matplotlib.pyplot as plt\n",
    "import statistics"
   ]
  },
  {
   "cell_type": "code",
   "execution_count": 43,
   "metadata": {},
   "outputs": [
    {
     "data": {
      "text/html": [
       "<div>\n",
       "<style scoped>\n",
       "    .dataframe tbody tr th:only-of-type {\n",
       "        vertical-align: middle;\n",
       "    }\n",
       "\n",
       "    .dataframe tbody tr th {\n",
       "        vertical-align: top;\n",
       "    }\n",
       "\n",
       "    .dataframe thead th {\n",
       "        text-align: right;\n",
       "    }\n",
       "</style>\n",
       "<table border=\"1\" class=\"dataframe\">\n",
       "  <thead>\n",
       "    <tr style=\"text-align: right;\">\n",
       "      <th></th>\n",
       "      <th>packetSequenceNumber</th>\n",
       "      <th>scheduledPlayoutTimeMillis</th>\n",
       "      <th>arrivalTimeMillis</th>\n",
       "    </tr>\n",
       "  </thead>\n",
       "  <tbody>\n",
       "    <tr>\n",
       "      <th>0</th>\n",
       "      <td>0</td>\n",
       "      <td>1733324332638</td>\n",
       "      <td>1733324322655</td>\n",
       "    </tr>\n",
       "    <tr>\n",
       "      <th>1</th>\n",
       "      <td>1</td>\n",
       "      <td>1733324332658</td>\n",
       "      <td>1733324322698</td>\n",
       "    </tr>\n",
       "    <tr>\n",
       "      <th>2</th>\n",
       "      <td>2</td>\n",
       "      <td>1733324332678</td>\n",
       "      <td>1733324322746</td>\n",
       "    </tr>\n",
       "    <tr>\n",
       "      <th>3</th>\n",
       "      <td>3</td>\n",
       "      <td>1733324332698</td>\n",
       "      <td>1733324322789</td>\n",
       "    </tr>\n",
       "    <tr>\n",
       "      <th>4</th>\n",
       "      <td>4</td>\n",
       "      <td>1733324332718</td>\n",
       "      <td>1733324322819</td>\n",
       "    </tr>\n",
       "    <tr>\n",
       "      <th>...</th>\n",
       "      <td>...</td>\n",
       "      <td>...</td>\n",
       "      <td>...</td>\n",
       "    </tr>\n",
       "    <tr>\n",
       "      <th>496</th>\n",
       "      <td>496</td>\n",
       "      <td>1733324366558</td>\n",
       "      <td>1733324364209</td>\n",
       "    </tr>\n",
       "    <tr>\n",
       "      <th>497</th>\n",
       "      <td>497</td>\n",
       "      <td>1733324366578</td>\n",
       "      <td>1733324364242</td>\n",
       "    </tr>\n",
       "    <tr>\n",
       "      <th>498</th>\n",
       "      <td>498</td>\n",
       "      <td>1733324366598</td>\n",
       "      <td>1733324364273</td>\n",
       "    </tr>\n",
       "    <tr>\n",
       "      <th>499</th>\n",
       "      <td>499</td>\n",
       "      <td>1733324366618</td>\n",
       "      <td>1733324364305</td>\n",
       "    </tr>\n",
       "    <tr>\n",
       "      <th>500</th>\n",
       "      <td>500</td>\n",
       "      <td>1733324366638</td>\n",
       "      <td>1733324364341</td>\n",
       "    </tr>\n",
       "  </tbody>\n",
       "</table>\n",
       "<p>501 rows × 3 columns</p>\n",
       "</div>"
      ],
      "text/plain": [
       "     packetSequenceNumber  scheduledPlayoutTimeMillis  arrivalTimeMillis\n",
       "0                       0               1733324332638      1733324322655\n",
       "1                       1               1733324332658      1733324322698\n",
       "2                       2               1733324332678      1733324322746\n",
       "3                       3               1733324332698      1733324322789\n",
       "4                       4               1733324332718      1733324322819\n",
       "..                    ...                         ...                ...\n",
       "496                   496               1733324366558      1733324364209\n",
       "497                   497               1733324366578      1733324364242\n",
       "498                   498               1733324366598      1733324364273\n",
       "499                   499               1733324366618      1733324364305\n",
       "500                   500               1733324366638      1733324364341\n",
       "\n",
       "[501 rows x 3 columns]"
      ]
     },
     "execution_count": 43,
     "metadata": {},
     "output_type": "execute_result"
    }
   ],
   "source": [
    "# ***** CASO DE TESTE 1 - caso ótimo *****\n",
    "\n",
    "# dados: linha 0 em data.csv | packetsTimesData\\7.csv\n",
    "\n",
    "# atraso mínimo = 50 ms\n",
    "# atraso máximo = 100 ms\n",
    "# atraso de buffer = 10.000 ms (10s)\n",
    "# atraso de rebuferização = 8.000 ms (8s)\n",
    "# perda de pacotes\n",
    "\n",
    "# dataFrame com intervalo de tempo entre pacotes\n",
    "n = 0\n",
    "filename =  \"..\\\\packetsTimesData\\\\7.csv\"\n",
    "df = pd.read_csv(filename)\n",
    "df"
   ]
  },
  {
   "cell_type": "code",
   "execution_count": 44,
   "metadata": {},
   "outputs": [
    {
     "data": {
      "text/html": [
       "<div>\n",
       "<style scoped>\n",
       "    .dataframe tbody tr th:only-of-type {\n",
       "        vertical-align: middle;\n",
       "    }\n",
       "\n",
       "    .dataframe tbody tr th {\n",
       "        vertical-align: top;\n",
       "    }\n",
       "\n",
       "    .dataframe thead th {\n",
       "        text-align: right;\n",
       "    }\n",
       "</style>\n",
       "<table border=\"1\" class=\"dataframe\">\n",
       "  <thead>\n",
       "    <tr style=\"text-align: right;\">\n",
       "      <th></th>\n",
       "      <th>minNetworkDelayMillis</th>\n",
       "      <th>maxNetworkDelayMillis</th>\n",
       "      <th>playoutBufferDelayMillis</th>\n",
       "      <th>packetConsumeTimeMillis</th>\n",
       "      <th>rebufferingDelayMillis</th>\n",
       "      <th>discartProbPercent</th>\n",
       "      <th>timeMillis</th>\n",
       "      <th>timeRebufferingMillis</th>\n",
       "      <th>numTimesRebuffer</th>\n",
       "      <th>numConsumedPackets</th>\n",
       "      <th>numLatePackets</th>\n",
       "      <th>numOutOfOrderPackets</th>\n",
       "      <th>numLostPackets</th>\n",
       "    </tr>\n",
       "  </thead>\n",
       "  <tbody>\n",
       "    <tr>\n",
       "      <th>0</th>\n",
       "      <td>50</td>\n",
       "      <td>100</td>\n",
       "      <td>10000</td>\n",
       "      <td>20</td>\n",
       "      <td>8000</td>\n",
       "      <td>0</td>\n",
       "      <td>51780</td>\n",
       "      <td>24000</td>\n",
       "      <td>3</td>\n",
       "      <td>501</td>\n",
       "      <td>0</td>\n",
       "      <td>0</td>\n",
       "      <td>0</td>\n",
       "    </tr>\n",
       "    <tr>\n",
       "      <th>1</th>\n",
       "      <td>50</td>\n",
       "      <td>1000</td>\n",
       "      <td>10000</td>\n",
       "      <td>20</td>\n",
       "      <td>5000</td>\n",
       "      <td>0</td>\n",
       "      <td>264097</td>\n",
       "      <td>235000</td>\n",
       "      <td>47</td>\n",
       "      <td>501</td>\n",
       "      <td>0</td>\n",
       "      <td>0</td>\n",
       "      <td>0</td>\n",
       "    </tr>\n",
       "    <tr>\n",
       "      <th>2</th>\n",
       "      <td>50</td>\n",
       "      <td>500</td>\n",
       "      <td>5000</td>\n",
       "      <td>20</td>\n",
       "      <td>2500</td>\n",
       "      <td>0</td>\n",
       "      <td>147940</td>\n",
       "      <td>122500</td>\n",
       "      <td>49</td>\n",
       "      <td>239</td>\n",
       "      <td>262</td>\n",
       "      <td>0</td>\n",
       "      <td>0</td>\n",
       "    </tr>\n",
       "    <tr>\n",
       "      <th>3</th>\n",
       "      <td>50</td>\n",
       "      <td>500</td>\n",
       "      <td>5000</td>\n",
       "      <td>20</td>\n",
       "      <td>3500</td>\n",
       "      <td>20</td>\n",
       "      <td>146312</td>\n",
       "      <td>126000</td>\n",
       "      <td>36</td>\n",
       "      <td>245</td>\n",
       "      <td>137</td>\n",
       "      <td>0</td>\n",
       "      <td>119</td>\n",
       "    </tr>\n",
       "  </tbody>\n",
       "</table>\n",
       "</div>"
      ],
      "text/plain": [
       "   minNetworkDelayMillis  maxNetworkDelayMillis  playoutBufferDelayMillis  \\\n",
       "0                     50                    100                     10000   \n",
       "1                     50                   1000                     10000   \n",
       "2                     50                    500                      5000   \n",
       "3                     50                    500                      5000   \n",
       "\n",
       "   packetConsumeTimeMillis  rebufferingDelayMillis  discartProbPercent  \\\n",
       "0                       20                    8000                   0   \n",
       "1                       20                    5000                   0   \n",
       "2                       20                    2500                   0   \n",
       "3                       20                    3500                  20   \n",
       "\n",
       "   timeMillis  timeRebufferingMillis  numTimesRebuffer  numConsumedPackets  \\\n",
       "0       51780                  24000                 3                 501   \n",
       "1      264097                 235000                47                 501   \n",
       "2      147940                 122500                49                 239   \n",
       "3      146312                 126000                36                 245   \n",
       "\n",
       "   numLatePackets  numOutOfOrderPackets  numLostPackets  \n",
       "0               0                     0               0  \n",
       "1               0                     0               0  \n",
       "2             262                     0               0  \n",
       "3             137                     0             119  "
      ]
     },
     "execution_count": 44,
     "metadata": {},
     "output_type": "execute_result"
    }
   ],
   "source": [
    "# dataFrame com dados da execução do teste\n",
    "df2 = pd.read_csv(\"..\\\\data.csv\")\n",
    "df2"
   ]
  },
  {
   "cell_type": "code",
   "execution_count": 45,
   "metadata": {},
   "outputs": [
    {
     "data": {
      "image/png": "[encoded data removed]",
      "text/plain": [
       "<Figure size 640x480 with 1 Axes>"
      ]
     },
     "metadata": {},
     "output_type": "display_data"
    }
   ],
   "source": [
    "# Grafico comparativo de tempos\n",
    "scheduled_times = list(df[\"scheduledPlayoutTimeMillis\"])\n",
    "arival_times = list(df[\"arrivalTimeMillis\"])\n",
    "x = list(range(len(arival_times)))\n",
    "\n",
    "plt.title(\"packet times\")\n",
    "plt.plot(x, arival_times, label=\"arrival time\", color=\"red\")\n",
    "plt.plot(x, scheduled_times, label=\"scheduled time\", color=\"blue\")\n",
    "# plt.plot(arival_times, x, label=\"arrival Time\", color=\"red\")\n",
    "# plt.plot(scheduled_times, x, label=\"scheduled time\", color=\"blue\")\n",
    "plt.legend()\n",
    "plt.xlabel(\"packets\")\n",
    "plt.ylabel(\"time (UTC - ns)\")\n",
    "plt.savefig(\"..\\\\figs\\\\case1-g1.png\")\n",
    "\n",
    "plt.show()"
   ]
  },
  {
   "cell_type": "code",
   "execution_count": 52,
   "metadata": {},
   "outputs": [
    {
     "data": {
      "image/png": "[encoded data removed]",
      "text/plain": [
       "<Figure size 640x480 with 1 Axes>"
      ]
     },
     "metadata": {},
     "output_type": "display_data"
    }
   ],
   "source": [
    "# Grafico de playback smoothness\n",
    "playback_smoothness = [arival_times[i] - arival_times[i-1] for i in range(1, len(arival_times))]\n",
    "x = [i for i in range(len(playback_smoothness))]\n",
    "\n",
    "plt.title(\"playback smoothness\")\n",
    "plt.scatter(x, playback_smoothness)\n",
    "plt.savefig(\"..\\\\figs\\\\case1-g2.png\")\n",
    "plt.xlabel(\"packets\")\n",
    "plt.ylabel(\"packets interval (ns)\")\n",
    "plt.show()"
   ]
  },
  {
   "cell_type": "code",
   "execution_count": 47,
   "metadata": {},
   "outputs": [
    {
     "data": {
      "text/plain": [
       "timeMillis               51780\n",
       "timeRebufferingMillis    24000\n",
       "numTimesRebuffer             3\n",
       "numConsumedPackets         501\n",
       "numLatePackets               0\n",
       "numLostPackets               0\n",
       "Name: 0, dtype: int64"
      ]
     },
     "execution_count": 47,
     "metadata": {},
     "output_type": "execute_result"
    }
   ],
   "source": [
    "# dados sobre o caso de teste\n",
    "cols = [\"timeMillis\", \"timeRebufferingMillis\", \"numTimesRebuffer\", \"numConsumedPackets\", \"numLatePackets\", \"numLostPackets\"]\n",
    "df2.loc[n, cols]"
   ]
  },
  {
   "cell_type": "code",
   "execution_count": 48,
   "metadata": {},
   "outputs": [
    {
     "name": "stdout",
     "output_type": "stream",
     "text": [
      "time spent rebuferring: 0.46349942062572425\n"
     ]
    }
   ],
   "source": [
    "# tempo relativo rebuferizando sobre tempo total\n",
    "print(f\"time spent rebuferring: {df2.loc[n, \"timeRebufferingMillis\"] / df2.loc[n, \"timeMillis\"]}\")"
   ]
  },
  {
   "cell_type": "code",
   "execution_count": 49,
   "metadata": {},
   "outputs": [
    {
     "name": "stdout",
     "output_type": "stream",
     "text": [
      "mean = 83.372 ms\n",
      "median = 32.000 ms\n",
      "variance = 383764.414 ms\n",
      "std deviation = 619.487 ms\n"
     ]
    }
   ],
   "source": [
    "print(f\"mean = {statistics.mean(playback_smoothness):.3f} ms\")\n",
    "print(f\"median = {statistics.median(playback_smoothness):.3f} ms\")\n",
    "print(f\"variance = {statistics.variance(playback_smoothness):.3f} ms\")\n",
    "print(f\"std deviation = {statistics.stdev(playback_smoothness):.3f} ms\")"
   ]
  },
  {
   "cell_type": "code",
   "execution_count": 51,
   "metadata": {},
   "outputs": [
    {
     "name": "stdout",
     "output_type": "stream",
     "text": [
      "[501]\n",
      "['Consumidos']\n",
      "['#4682B4']\n"
     ]
    },
    {
     "data": {
      "image/png": "[encoded data removed]",
      "text/plain": [
       "<Figure size 640x480 with 1 Axes>"
      ]
     },
     "metadata": {},
     "output_type": "display_data"
    }
   ],
   "source": [
    "consumed = df2.loc[n, \"numConsumedPackets\"]\n",
    "late = df2.loc[n, \"numLatePackets\"]\n",
    "unordered = df2.loc[n, \"numOutOfOrderPackets\"]\n",
    "lost = df2.loc[n, \"numLostPackets\"]\n",
    "\n",
    "labels = [\"Consumidos\", \"atrasados\", \"fora de ordem\", \"perdidos\"]\n",
    "colors = ['#4682B4', '#FFA07A', '#CD5C5C', '#9370DB']\n",
    "sizes = [consumed, late, unordered, lost]\n",
    "# explode = (0.1, 0.1, 0, 0)\n",
    "\n",
    "r_sizes = []\n",
    "r_colors = []\n",
    "r_labels = []\n",
    "\n",
    "for i, (size, label, color) in enumerate(zip(sizes, labels, colors)):\n",
    "    if size != 0:\n",
    "        r_sizes.append(int(size))\n",
    "        r_colors.append(color)\n",
    "        r_labels.append(label)\n",
    "        \n",
    "        \n",
    "print(r_sizes)\n",
    "print(r_labels)\n",
    "print(r_colors)\n",
    "\n",
    "\n",
    "plt.title(\"distribuição de pacotes\")\n",
    "plt.pie(r_sizes, labels=r_labels, autopct='%1.1f%%', colors=r_colors)\n",
    "plt.savefig(\"..\\\\figs\\\\case1-g3.png\")\n",
    "plt.show()"
   ]
  }
 ],
 "metadata": {
  "kernelspec": {
   "display_name": ".venv",
   "language": "python",
   "name": "python3"
  },
  "language_info": {
   "codemirror_mode": {
    "name": "ipython",
    "version": 3
   },
   "file_extension": ".py",
   "mimetype": "text/x-python",
   "name": "python",
   "nbconvert_exporter": "python",
   "pygments_lexer": "ipython3",
   "version": "3.12.5"
  }
 },
 "nbformat": 4,
 "nbformat_minor": 2
}
